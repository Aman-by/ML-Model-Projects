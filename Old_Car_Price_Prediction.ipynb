{
  "nbformat": 4,
  "nbformat_minor": 0,
  "metadata": {
    "colab": {
      "provenance": []
    },
    "kernelspec": {
      "name": "python3",
      "display_name": "Python 3"
    },
    "language_info": {
      "name": "python"
    }
  },
  "cells": [
    {
      "cell_type": "markdown",
      "source": [
        "# **Old Car Price Prediction**\n",
        "\n",
        "---\n",
        "\n",
        "\n"
      ],
      "metadata": {
        "id": "N1LQ9uCL8W1w"
      }
    },
    {
      "cell_type": "markdown",
      "source": [
        "#**Objective**\n",
        "Old car price prediction is a task of estimating the market value of a used car based on various features, such as the brand, model, year, fuel, transmission,etc.\n",
        "\n",
        "So, the main objective to create the model that can predict the price of old cars."
      ],
      "metadata": {
        "id": "Q0hS0ktO_I6g"
      }
    },
    {
      "cell_type": "markdown",
      "source": [
        "#**Data Source**\n",
        "The dataset used in this project was downloaded from [github]('https://github.com/YBIFoundation/Dataset/raw/main/Car%20Price.csv')\n",
        "\n",
        "Target variable(y):\n",
        "\n",
        "\n",
        "*   Selling_Price\n",
        "\n",
        "Eight features(X):\n",
        "\n",
        "\n",
        "1. Brand\n",
        "2. Model\n",
        "3. Year\n",
        "4. KM Driven\n",
        "5. Fuel\n",
        "6. Seller Type\n",
        "7. Transmission\n",
        "8. Owner\n",
        "\n",
        "\n",
        "\n",
        "\n",
        "\n"
      ],
      "metadata": {
        "id": "91uDIYmj_WTr"
      }
    },
    {
      "cell_type": "markdown",
      "source": [
        "#**Import Library**"
      ],
      "metadata": {
        "id": "32Y5ftx4_g8F"
      }
    },
    {
      "cell_type": "code",
      "execution_count": null,
      "metadata": {
        "id": "thpRMK1YPYNt"
      },
      "outputs": [],
      "source": [
        "import pandas as pd\n",
        "import numpy as np"
      ]
    },
    {
      "cell_type": "markdown",
      "source": [
        "#**Import Data**"
      ],
      "metadata": {
        "id": "X8iMcpwc_ofM"
      }
    },
    {
      "cell_type": "code",
      "source": [
        "car =  pd.read_csv('https://github.com/YBIFoundation/Dataset/raw/main/Car%20Price.csv')"
      ],
      "metadata": {
        "id": "KdI4hBw9EKix"
      },
      "execution_count": null,
      "outputs": []
    },
    {
      "cell_type": "code",
      "source": [
        "car.head()"
      ],
      "metadata": {
        "colab": {
          "base_uri": "https://localhost:8080/",
          "height": 206
        },
        "id": "u2zmJWXqmt5c",
        "outputId": "42a04bb8-ab09-40ad-c949-b29ee0416917"
      },
      "execution_count": null,
      "outputs": [
        {
          "output_type": "execute_result",
          "data": {
            "text/plain": [
              "     Brand                     Model  Year  Selling_Price  KM_Driven    Fuel  \\\n",
              "0   Maruti             Maruti 800 AC  2007          60000      70000  Petrol   \n",
              "1   Maruti  Maruti Wagon R LXI Minor  2007         135000      50000  Petrol   \n",
              "2  Hyundai      Hyundai Verna 1.6 SX  2012         600000     100000  Diesel   \n",
              "3   Datsun    Datsun RediGO T Option  2017         250000      46000  Petrol   \n",
              "4    Honda     Honda Amaze VX i-DTEC  2014         450000     141000  Diesel   \n",
              "\n",
              "  Seller_Type Transmission         Owner  \n",
              "0  Individual       Manual   First Owner  \n",
              "1  Individual       Manual   First Owner  \n",
              "2  Individual       Manual   First Owner  \n",
              "3  Individual       Manual   First Owner  \n",
              "4  Individual       Manual  Second Owner  "
            ],
            "text/html": [
              "\n",
              "  <div id=\"df-c89c7935-30b9-42e5-ba06-8f7db223ff0c\" class=\"colab-df-container\">\n",
              "    <div>\n",
              "<style scoped>\n",
              "    .dataframe tbody tr th:only-of-type {\n",
              "        vertical-align: middle;\n",
              "    }\n",
              "\n",
              "    .dataframe tbody tr th {\n",
              "        vertical-align: top;\n",
              "    }\n",
              "\n",
              "    .dataframe thead th {\n",
              "        text-align: right;\n",
              "    }\n",
              "</style>\n",
              "<table border=\"1\" class=\"dataframe\">\n",
              "  <thead>\n",
              "    <tr style=\"text-align: right;\">\n",
              "      <th></th>\n",
              "      <th>Brand</th>\n",
              "      <th>Model</th>\n",
              "      <th>Year</th>\n",
              "      <th>Selling_Price</th>\n",
              "      <th>KM_Driven</th>\n",
              "      <th>Fuel</th>\n",
              "      <th>Seller_Type</th>\n",
              "      <th>Transmission</th>\n",
              "      <th>Owner</th>\n",
              "    </tr>\n",
              "  </thead>\n",
              "  <tbody>\n",
              "    <tr>\n",
              "      <th>0</th>\n",
              "      <td>Maruti</td>\n",
              "      <td>Maruti 800 AC</td>\n",
              "      <td>2007</td>\n",
              "      <td>60000</td>\n",
              "      <td>70000</td>\n",
              "      <td>Petrol</td>\n",
              "      <td>Individual</td>\n",
              "      <td>Manual</td>\n",
              "      <td>First Owner</td>\n",
              "    </tr>\n",
              "    <tr>\n",
              "      <th>1</th>\n",
              "      <td>Maruti</td>\n",
              "      <td>Maruti Wagon R LXI Minor</td>\n",
              "      <td>2007</td>\n",
              "      <td>135000</td>\n",
              "      <td>50000</td>\n",
              "      <td>Petrol</td>\n",
              "      <td>Individual</td>\n",
              "      <td>Manual</td>\n",
              "      <td>First Owner</td>\n",
              "    </tr>\n",
              "    <tr>\n",
              "      <th>2</th>\n",
              "      <td>Hyundai</td>\n",
              "      <td>Hyundai Verna 1.6 SX</td>\n",
              "      <td>2012</td>\n",
              "      <td>600000</td>\n",
              "      <td>100000</td>\n",
              "      <td>Diesel</td>\n",
              "      <td>Individual</td>\n",
              "      <td>Manual</td>\n",
              "      <td>First Owner</td>\n",
              "    </tr>\n",
              "    <tr>\n",
              "      <th>3</th>\n",
              "      <td>Datsun</td>\n",
              "      <td>Datsun RediGO T Option</td>\n",
              "      <td>2017</td>\n",
              "      <td>250000</td>\n",
              "      <td>46000</td>\n",
              "      <td>Petrol</td>\n",
              "      <td>Individual</td>\n",
              "      <td>Manual</td>\n",
              "      <td>First Owner</td>\n",
              "    </tr>\n",
              "    <tr>\n",
              "      <th>4</th>\n",
              "      <td>Honda</td>\n",
              "      <td>Honda Amaze VX i-DTEC</td>\n",
              "      <td>2014</td>\n",
              "      <td>450000</td>\n",
              "      <td>141000</td>\n",
              "      <td>Diesel</td>\n",
              "      <td>Individual</td>\n",
              "      <td>Manual</td>\n",
              "      <td>Second Owner</td>\n",
              "    </tr>\n",
              "  </tbody>\n",
              "</table>\n",
              "</div>\n",
              "    <div class=\"colab-df-buttons\">\n",
              "\n",
              "  <div class=\"colab-df-container\">\n",
              "    <button class=\"colab-df-convert\" onclick=\"convertToInteractive('df-c89c7935-30b9-42e5-ba06-8f7db223ff0c')\"\n",
              "            title=\"Convert this dataframe to an interactive table.\"\n",
              "            style=\"display:none;\">\n",
              "\n",
              "  <svg xmlns=\"http://www.w3.org/2000/svg\" height=\"24px\" viewBox=\"0 -960 960 960\">\n",
              "    <path d=\"M120-120v-720h720v720H120Zm60-500h600v-160H180v160Zm220 220h160v-160H400v160Zm0 220h160v-160H400v160ZM180-400h160v-160H180v160Zm440 0h160v-160H620v160ZM180-180h160v-160H180v160Zm440 0h160v-160H620v160Z\"/>\n",
              "  </svg>\n",
              "    </button>\n",
              "\n",
              "  <style>\n",
              "    .colab-df-container {\n",
              "      display:flex;\n",
              "      gap: 12px;\n",
              "    }\n",
              "\n",
              "    .colab-df-convert {\n",
              "      background-color: #E8F0FE;\n",
              "      border: none;\n",
              "      border-radius: 50%;\n",
              "      cursor: pointer;\n",
              "      display: none;\n",
              "      fill: #1967D2;\n",
              "      height: 32px;\n",
              "      padding: 0 0 0 0;\n",
              "      width: 32px;\n",
              "    }\n",
              "\n",
              "    .colab-df-convert:hover {\n",
              "      background-color: #E2EBFA;\n",
              "      box-shadow: 0px 1px 2px rgba(60, 64, 67, 0.3), 0px 1px 3px 1px rgba(60, 64, 67, 0.15);\n",
              "      fill: #174EA6;\n",
              "    }\n",
              "\n",
              "    .colab-df-buttons div {\n",
              "      margin-bottom: 4px;\n",
              "    }\n",
              "\n",
              "    [theme=dark] .colab-df-convert {\n",
              "      background-color: #3B4455;\n",
              "      fill: #D2E3FC;\n",
              "    }\n",
              "\n",
              "    [theme=dark] .colab-df-convert:hover {\n",
              "      background-color: #434B5C;\n",
              "      box-shadow: 0px 1px 3px 1px rgba(0, 0, 0, 0.15);\n",
              "      filter: drop-shadow(0px 1px 2px rgba(0, 0, 0, 0.3));\n",
              "      fill: #FFFFFF;\n",
              "    }\n",
              "  </style>\n",
              "\n",
              "    <script>\n",
              "      const buttonEl =\n",
              "        document.querySelector('#df-c89c7935-30b9-42e5-ba06-8f7db223ff0c button.colab-df-convert');\n",
              "      buttonEl.style.display =\n",
              "        google.colab.kernel.accessAllowed ? 'block' : 'none';\n",
              "\n",
              "      async function convertToInteractive(key) {\n",
              "        const element = document.querySelector('#df-c89c7935-30b9-42e5-ba06-8f7db223ff0c');\n",
              "        const dataTable =\n",
              "          await google.colab.kernel.invokeFunction('convertToInteractive',\n",
              "                                                    [key], {});\n",
              "        if (!dataTable) return;\n",
              "\n",
              "        const docLinkHtml = 'Like what you see? Visit the ' +\n",
              "          '<a target=\"_blank\" href=https://colab.research.google.com/notebooks/data_table.ipynb>data table notebook</a>'\n",
              "          + ' to learn more about interactive tables.';\n",
              "        element.innerHTML = '';\n",
              "        dataTable['output_type'] = 'display_data';\n",
              "        await google.colab.output.renderOutput(dataTable, element);\n",
              "        const docLink = document.createElement('div');\n",
              "        docLink.innerHTML = docLinkHtml;\n",
              "        element.appendChild(docLink);\n",
              "      }\n",
              "    </script>\n",
              "  </div>\n",
              "\n",
              "\n",
              "<div id=\"df-e48387e3-5636-4404-a291-32ca990d5f4a\">\n",
              "  <button class=\"colab-df-quickchart\" onclick=\"quickchart('df-e48387e3-5636-4404-a291-32ca990d5f4a')\"\n",
              "            title=\"Suggest charts\"\n",
              "            style=\"display:none;\">\n",
              "\n",
              "<svg xmlns=\"http://www.w3.org/2000/svg\" height=\"24px\"viewBox=\"0 0 24 24\"\n",
              "     width=\"24px\">\n",
              "    <g>\n",
              "        <path d=\"M19 3H5c-1.1 0-2 .9-2 2v14c0 1.1.9 2 2 2h14c1.1 0 2-.9 2-2V5c0-1.1-.9-2-2-2zM9 17H7v-7h2v7zm4 0h-2V7h2v10zm4 0h-2v-4h2v4z\"/>\n",
              "    </g>\n",
              "</svg>\n",
              "  </button>\n",
              "\n",
              "<style>\n",
              "  .colab-df-quickchart {\n",
              "      --bg-color: #E8F0FE;\n",
              "      --fill-color: #1967D2;\n",
              "      --hover-bg-color: #E2EBFA;\n",
              "      --hover-fill-color: #174EA6;\n",
              "      --disabled-fill-color: #AAA;\n",
              "      --disabled-bg-color: #DDD;\n",
              "  }\n",
              "\n",
              "  [theme=dark] .colab-df-quickchart {\n",
              "      --bg-color: #3B4455;\n",
              "      --fill-color: #D2E3FC;\n",
              "      --hover-bg-color: #434B5C;\n",
              "      --hover-fill-color: #FFFFFF;\n",
              "      --disabled-bg-color: #3B4455;\n",
              "      --disabled-fill-color: #666;\n",
              "  }\n",
              "\n",
              "  .colab-df-quickchart {\n",
              "    background-color: var(--bg-color);\n",
              "    border: none;\n",
              "    border-radius: 50%;\n",
              "    cursor: pointer;\n",
              "    display: none;\n",
              "    fill: var(--fill-color);\n",
              "    height: 32px;\n",
              "    padding: 0;\n",
              "    width: 32px;\n",
              "  }\n",
              "\n",
              "  .colab-df-quickchart:hover {\n",
              "    background-color: var(--hover-bg-color);\n",
              "    box-shadow: 0 1px 2px rgba(60, 64, 67, 0.3), 0 1px 3px 1px rgba(60, 64, 67, 0.15);\n",
              "    fill: var(--button-hover-fill-color);\n",
              "  }\n",
              "\n",
              "  .colab-df-quickchart-complete:disabled,\n",
              "  .colab-df-quickchart-complete:disabled:hover {\n",
              "    background-color: var(--disabled-bg-color);\n",
              "    fill: var(--disabled-fill-color);\n",
              "    box-shadow: none;\n",
              "  }\n",
              "\n",
              "  .colab-df-spinner {\n",
              "    border: 2px solid var(--fill-color);\n",
              "    border-color: transparent;\n",
              "    border-bottom-color: var(--fill-color);\n",
              "    animation:\n",
              "      spin 1s steps(1) infinite;\n",
              "  }\n",
              "\n",
              "  @keyframes spin {\n",
              "    0% {\n",
              "      border-color: transparent;\n",
              "      border-bottom-color: var(--fill-color);\n",
              "      border-left-color: var(--fill-color);\n",
              "    }\n",
              "    20% {\n",
              "      border-color: transparent;\n",
              "      border-left-color: var(--fill-color);\n",
              "      border-top-color: var(--fill-color);\n",
              "    }\n",
              "    30% {\n",
              "      border-color: transparent;\n",
              "      border-left-color: var(--fill-color);\n",
              "      border-top-color: var(--fill-color);\n",
              "      border-right-color: var(--fill-color);\n",
              "    }\n",
              "    40% {\n",
              "      border-color: transparent;\n",
              "      border-right-color: var(--fill-color);\n",
              "      border-top-color: var(--fill-color);\n",
              "    }\n",
              "    60% {\n",
              "      border-color: transparent;\n",
              "      border-right-color: var(--fill-color);\n",
              "    }\n",
              "    80% {\n",
              "      border-color: transparent;\n",
              "      border-right-color: var(--fill-color);\n",
              "      border-bottom-color: var(--fill-color);\n",
              "    }\n",
              "    90% {\n",
              "      border-color: transparent;\n",
              "      border-bottom-color: var(--fill-color);\n",
              "    }\n",
              "  }\n",
              "</style>\n",
              "\n",
              "  <script>\n",
              "    async function quickchart(key) {\n",
              "      const quickchartButtonEl =\n",
              "        document.querySelector('#' + key + ' button');\n",
              "      quickchartButtonEl.disabled = true;  // To prevent multiple clicks.\n",
              "      quickchartButtonEl.classList.add('colab-df-spinner');\n",
              "      try {\n",
              "        const charts = await google.colab.kernel.invokeFunction(\n",
              "            'suggestCharts', [key], {});\n",
              "      } catch (error) {\n",
              "        console.error('Error during call to suggestCharts:', error);\n",
              "      }\n",
              "      quickchartButtonEl.classList.remove('colab-df-spinner');\n",
              "      quickchartButtonEl.classList.add('colab-df-quickchart-complete');\n",
              "    }\n",
              "    (() => {\n",
              "      let quickchartButtonEl =\n",
              "        document.querySelector('#df-e48387e3-5636-4404-a291-32ca990d5f4a button');\n",
              "      quickchartButtonEl.style.display =\n",
              "        google.colab.kernel.accessAllowed ? 'block' : 'none';\n",
              "    })();\n",
              "  </script>\n",
              "</div>\n",
              "\n",
              "    </div>\n",
              "  </div>\n"
            ]
          },
          "metadata": {},
          "execution_count": 5
        }
      ]
    },
    {
      "cell_type": "code",
      "source": [
        "car.info()"
      ],
      "metadata": {
        "colab": {
          "base_uri": "https://localhost:8080/"
        },
        "id": "YDJVR7zXmpS4",
        "outputId": "aa44c63e-6146-4404-94d4-6974df86a20f"
      },
      "execution_count": null,
      "outputs": [
        {
          "output_type": "stream",
          "name": "stdout",
          "text": [
            "<class 'pandas.core.frame.DataFrame'>\n",
            "RangeIndex: 4340 entries, 0 to 4339\n",
            "Data columns (total 9 columns):\n",
            " #   Column         Non-Null Count  Dtype \n",
            "---  ------         --------------  ----- \n",
            " 0   Brand          4340 non-null   object\n",
            " 1   Model          4340 non-null   object\n",
            " 2   Year           4340 non-null   int64 \n",
            " 3   Selling_Price  4340 non-null   int64 \n",
            " 4   KM_Driven      4340 non-null   int64 \n",
            " 5   Fuel           4340 non-null   object\n",
            " 6   Seller_Type    4340 non-null   object\n",
            " 7   Transmission   4340 non-null   object\n",
            " 8   Owner          4340 non-null   object\n",
            "dtypes: int64(3), object(6)\n",
            "memory usage: 305.3+ KB\n"
          ]
        }
      ]
    },
    {
      "cell_type": "markdown",
      "source": [
        "#**Describe Data**"
      ],
      "metadata": {
        "id": "HYuEA4iG_2Mz"
      }
    },
    {
      "cell_type": "code",
      "source": [
        "car.describe()"
      ],
      "metadata": {
        "colab": {
          "base_uri": "https://localhost:8080/",
          "height": 300
        },
        "id": "PsD9pStanjCW",
        "outputId": "43c3cf3f-f4ac-4fdf-e661-993726705545"
      },
      "execution_count": null,
      "outputs": [
        {
          "output_type": "execute_result",
          "data": {
            "text/plain": [
              "              Year  Selling_Price      KM_Driven\n",
              "count  4340.000000   4.340000e+03    4340.000000\n",
              "mean   2013.090783   5.041273e+05   66215.777419\n",
              "std       4.215344   5.785487e+05   46644.102194\n",
              "min    1992.000000   2.000000e+04       1.000000\n",
              "25%    2011.000000   2.087498e+05   35000.000000\n",
              "50%    2014.000000   3.500000e+05   60000.000000\n",
              "75%    2016.000000   6.000000e+05   90000.000000\n",
              "max    2020.000000   8.900000e+06  806599.000000"
            ],
            "text/html": [
              "\n",
              "  <div id=\"df-09d449d4-c3c0-4c43-b926-0ded4015fb67\" class=\"colab-df-container\">\n",
              "    <div>\n",
              "<style scoped>\n",
              "    .dataframe tbody tr th:only-of-type {\n",
              "        vertical-align: middle;\n",
              "    }\n",
              "\n",
              "    .dataframe tbody tr th {\n",
              "        vertical-align: top;\n",
              "    }\n",
              "\n",
              "    .dataframe thead th {\n",
              "        text-align: right;\n",
              "    }\n",
              "</style>\n",
              "<table border=\"1\" class=\"dataframe\">\n",
              "  <thead>\n",
              "    <tr style=\"text-align: right;\">\n",
              "      <th></th>\n",
              "      <th>Year</th>\n",
              "      <th>Selling_Price</th>\n",
              "      <th>KM_Driven</th>\n",
              "    </tr>\n",
              "  </thead>\n",
              "  <tbody>\n",
              "    <tr>\n",
              "      <th>count</th>\n",
              "      <td>4340.000000</td>\n",
              "      <td>4.340000e+03</td>\n",
              "      <td>4340.000000</td>\n",
              "    </tr>\n",
              "    <tr>\n",
              "      <th>mean</th>\n",
              "      <td>2013.090783</td>\n",
              "      <td>5.041273e+05</td>\n",
              "      <td>66215.777419</td>\n",
              "    </tr>\n",
              "    <tr>\n",
              "      <th>std</th>\n",
              "      <td>4.215344</td>\n",
              "      <td>5.785487e+05</td>\n",
              "      <td>46644.102194</td>\n",
              "    </tr>\n",
              "    <tr>\n",
              "      <th>min</th>\n",
              "      <td>1992.000000</td>\n",
              "      <td>2.000000e+04</td>\n",
              "      <td>1.000000</td>\n",
              "    </tr>\n",
              "    <tr>\n",
              "      <th>25%</th>\n",
              "      <td>2011.000000</td>\n",
              "      <td>2.087498e+05</td>\n",
              "      <td>35000.000000</td>\n",
              "    </tr>\n",
              "    <tr>\n",
              "      <th>50%</th>\n",
              "      <td>2014.000000</td>\n",
              "      <td>3.500000e+05</td>\n",
              "      <td>60000.000000</td>\n",
              "    </tr>\n",
              "    <tr>\n",
              "      <th>75%</th>\n",
              "      <td>2016.000000</td>\n",
              "      <td>6.000000e+05</td>\n",
              "      <td>90000.000000</td>\n",
              "    </tr>\n",
              "    <tr>\n",
              "      <th>max</th>\n",
              "      <td>2020.000000</td>\n",
              "      <td>8.900000e+06</td>\n",
              "      <td>806599.000000</td>\n",
              "    </tr>\n",
              "  </tbody>\n",
              "</table>\n",
              "</div>\n",
              "    <div class=\"colab-df-buttons\">\n",
              "\n",
              "  <div class=\"colab-df-container\">\n",
              "    <button class=\"colab-df-convert\" onclick=\"convertToInteractive('df-09d449d4-c3c0-4c43-b926-0ded4015fb67')\"\n",
              "            title=\"Convert this dataframe to an interactive table.\"\n",
              "            style=\"display:none;\">\n",
              "\n",
              "  <svg xmlns=\"http://www.w3.org/2000/svg\" height=\"24px\" viewBox=\"0 -960 960 960\">\n",
              "    <path d=\"M120-120v-720h720v720H120Zm60-500h600v-160H180v160Zm220 220h160v-160H400v160Zm0 220h160v-160H400v160ZM180-400h160v-160H180v160Zm440 0h160v-160H620v160ZM180-180h160v-160H180v160Zm440 0h160v-160H620v160Z\"/>\n",
              "  </svg>\n",
              "    </button>\n",
              "\n",
              "  <style>\n",
              "    .colab-df-container {\n",
              "      display:flex;\n",
              "      gap: 12px;\n",
              "    }\n",
              "\n",
              "    .colab-df-convert {\n",
              "      background-color: #E8F0FE;\n",
              "      border: none;\n",
              "      border-radius: 50%;\n",
              "      cursor: pointer;\n",
              "      display: none;\n",
              "      fill: #1967D2;\n",
              "      height: 32px;\n",
              "      padding: 0 0 0 0;\n",
              "      width: 32px;\n",
              "    }\n",
              "\n",
              "    .colab-df-convert:hover {\n",
              "      background-color: #E2EBFA;\n",
              "      box-shadow: 0px 1px 2px rgba(60, 64, 67, 0.3), 0px 1px 3px 1px rgba(60, 64, 67, 0.15);\n",
              "      fill: #174EA6;\n",
              "    }\n",
              "\n",
              "    .colab-df-buttons div {\n",
              "      margin-bottom: 4px;\n",
              "    }\n",
              "\n",
              "    [theme=dark] .colab-df-convert {\n",
              "      background-color: #3B4455;\n",
              "      fill: #D2E3FC;\n",
              "    }\n",
              "\n",
              "    [theme=dark] .colab-df-convert:hover {\n",
              "      background-color: #434B5C;\n",
              "      box-shadow: 0px 1px 3px 1px rgba(0, 0, 0, 0.15);\n",
              "      filter: drop-shadow(0px 1px 2px rgba(0, 0, 0, 0.3));\n",
              "      fill: #FFFFFF;\n",
              "    }\n",
              "  </style>\n",
              "\n",
              "    <script>\n",
              "      const buttonEl =\n",
              "        document.querySelector('#df-09d449d4-c3c0-4c43-b926-0ded4015fb67 button.colab-df-convert');\n",
              "      buttonEl.style.display =\n",
              "        google.colab.kernel.accessAllowed ? 'block' : 'none';\n",
              "\n",
              "      async function convertToInteractive(key) {\n",
              "        const element = document.querySelector('#df-09d449d4-c3c0-4c43-b926-0ded4015fb67');\n",
              "        const dataTable =\n",
              "          await google.colab.kernel.invokeFunction('convertToInteractive',\n",
              "                                                    [key], {});\n",
              "        if (!dataTable) return;\n",
              "\n",
              "        const docLinkHtml = 'Like what you see? Visit the ' +\n",
              "          '<a target=\"_blank\" href=https://colab.research.google.com/notebooks/data_table.ipynb>data table notebook</a>'\n",
              "          + ' to learn more about interactive tables.';\n",
              "        element.innerHTML = '';\n",
              "        dataTable['output_type'] = 'display_data';\n",
              "        await google.colab.output.renderOutput(dataTable, element);\n",
              "        const docLink = document.createElement('div');\n",
              "        docLink.innerHTML = docLinkHtml;\n",
              "        element.appendChild(docLink);\n",
              "      }\n",
              "    </script>\n",
              "  </div>\n",
              "\n",
              "\n",
              "<div id=\"df-2a4d322b-3d02-4275-af73-e156719fd4b6\">\n",
              "  <button class=\"colab-df-quickchart\" onclick=\"quickchart('df-2a4d322b-3d02-4275-af73-e156719fd4b6')\"\n",
              "            title=\"Suggest charts\"\n",
              "            style=\"display:none;\">\n",
              "\n",
              "<svg xmlns=\"http://www.w3.org/2000/svg\" height=\"24px\"viewBox=\"0 0 24 24\"\n",
              "     width=\"24px\">\n",
              "    <g>\n",
              "        <path d=\"M19 3H5c-1.1 0-2 .9-2 2v14c0 1.1.9 2 2 2h14c1.1 0 2-.9 2-2V5c0-1.1-.9-2-2-2zM9 17H7v-7h2v7zm4 0h-2V7h2v10zm4 0h-2v-4h2v4z\"/>\n",
              "    </g>\n",
              "</svg>\n",
              "  </button>\n",
              "\n",
              "<style>\n",
              "  .colab-df-quickchart {\n",
              "      --bg-color: #E8F0FE;\n",
              "      --fill-color: #1967D2;\n",
              "      --hover-bg-color: #E2EBFA;\n",
              "      --hover-fill-color: #174EA6;\n",
              "      --disabled-fill-color: #AAA;\n",
              "      --disabled-bg-color: #DDD;\n",
              "  }\n",
              "\n",
              "  [theme=dark] .colab-df-quickchart {\n",
              "      --bg-color: #3B4455;\n",
              "      --fill-color: #D2E3FC;\n",
              "      --hover-bg-color: #434B5C;\n",
              "      --hover-fill-color: #FFFFFF;\n",
              "      --disabled-bg-color: #3B4455;\n",
              "      --disabled-fill-color: #666;\n",
              "  }\n",
              "\n",
              "  .colab-df-quickchart {\n",
              "    background-color: var(--bg-color);\n",
              "    border: none;\n",
              "    border-radius: 50%;\n",
              "    cursor: pointer;\n",
              "    display: none;\n",
              "    fill: var(--fill-color);\n",
              "    height: 32px;\n",
              "    padding: 0;\n",
              "    width: 32px;\n",
              "  }\n",
              "\n",
              "  .colab-df-quickchart:hover {\n",
              "    background-color: var(--hover-bg-color);\n",
              "    box-shadow: 0 1px 2px rgba(60, 64, 67, 0.3), 0 1px 3px 1px rgba(60, 64, 67, 0.15);\n",
              "    fill: var(--button-hover-fill-color);\n",
              "  }\n",
              "\n",
              "  .colab-df-quickchart-complete:disabled,\n",
              "  .colab-df-quickchart-complete:disabled:hover {\n",
              "    background-color: var(--disabled-bg-color);\n",
              "    fill: var(--disabled-fill-color);\n",
              "    box-shadow: none;\n",
              "  }\n",
              "\n",
              "  .colab-df-spinner {\n",
              "    border: 2px solid var(--fill-color);\n",
              "    border-color: transparent;\n",
              "    border-bottom-color: var(--fill-color);\n",
              "    animation:\n",
              "      spin 1s steps(1) infinite;\n",
              "  }\n",
              "\n",
              "  @keyframes spin {\n",
              "    0% {\n",
              "      border-color: transparent;\n",
              "      border-bottom-color: var(--fill-color);\n",
              "      border-left-color: var(--fill-color);\n",
              "    }\n",
              "    20% {\n",
              "      border-color: transparent;\n",
              "      border-left-color: var(--fill-color);\n",
              "      border-top-color: var(--fill-color);\n",
              "    }\n",
              "    30% {\n",
              "      border-color: transparent;\n",
              "      border-left-color: var(--fill-color);\n",
              "      border-top-color: var(--fill-color);\n",
              "      border-right-color: var(--fill-color);\n",
              "    }\n",
              "    40% {\n",
              "      border-color: transparent;\n",
              "      border-right-color: var(--fill-color);\n",
              "      border-top-color: var(--fill-color);\n",
              "    }\n",
              "    60% {\n",
              "      border-color: transparent;\n",
              "      border-right-color: var(--fill-color);\n",
              "    }\n",
              "    80% {\n",
              "      border-color: transparent;\n",
              "      border-right-color: var(--fill-color);\n",
              "      border-bottom-color: var(--fill-color);\n",
              "    }\n",
              "    90% {\n",
              "      border-color: transparent;\n",
              "      border-bottom-color: var(--fill-color);\n",
              "    }\n",
              "  }\n",
              "</style>\n",
              "\n",
              "  <script>\n",
              "    async function quickchart(key) {\n",
              "      const quickchartButtonEl =\n",
              "        document.querySelector('#' + key + ' button');\n",
              "      quickchartButtonEl.disabled = true;  // To prevent multiple clicks.\n",
              "      quickchartButtonEl.classList.add('colab-df-spinner');\n",
              "      try {\n",
              "        const charts = await google.colab.kernel.invokeFunction(\n",
              "            'suggestCharts', [key], {});\n",
              "      } catch (error) {\n",
              "        console.error('Error during call to suggestCharts:', error);\n",
              "      }\n",
              "      quickchartButtonEl.classList.remove('colab-df-spinner');\n",
              "      quickchartButtonEl.classList.add('colab-df-quickchart-complete');\n",
              "    }\n",
              "    (() => {\n",
              "      let quickchartButtonEl =\n",
              "        document.querySelector('#df-2a4d322b-3d02-4275-af73-e156719fd4b6 button');\n",
              "      quickchartButtonEl.style.display =\n",
              "        google.colab.kernel.accessAllowed ? 'block' : 'none';\n",
              "    })();\n",
              "  </script>\n",
              "</div>\n",
              "\n",
              "    </div>\n",
              "  </div>\n"
            ]
          },
          "metadata": {},
          "execution_count": 7
        }
      ]
    },
    {
      "cell_type": "code",
      "source": [
        "car.columns"
      ],
      "metadata": {
        "colab": {
          "base_uri": "https://localhost:8080/"
        },
        "id": "GSB_LN4ppUUS",
        "outputId": "9f62236d-92de-4989-f1ec-85d14f323096"
      },
      "execution_count": null,
      "outputs": [
        {
          "output_type": "execute_result",
          "data": {
            "text/plain": [
              "Index(['Brand', 'Model', 'Year', 'Selling_Price', 'KM_Driven', 'Fuel',\n",
              "       'Seller_Type', 'Transmission', 'Owner'],\n",
              "      dtype='object')"
            ]
          },
          "metadata": {},
          "execution_count": 8
        }
      ]
    },
    {
      "cell_type": "markdown",
      "source": [
        "#**Data Preprocessing**"
      ],
      "metadata": {
        "id": "bw7vQYphAJEf"
      }
    },
    {
      "cell_type": "code",
      "source": [
        "car['Brand'].nunique()"
      ],
      "metadata": {
        "colab": {
          "base_uri": "https://localhost:8080/"
        },
        "id": "myoFE4TYpZcE",
        "outputId": "bcc4e366-f526-4d79-a917-a7cf3f19c67d"
      },
      "execution_count": null,
      "outputs": [
        {
          "output_type": "execute_result",
          "data": {
            "text/plain": [
              "29"
            ]
          },
          "metadata": {},
          "execution_count": 9
        }
      ]
    },
    {
      "cell_type": "code",
      "source": [
        "car['Brand'].value_counts()"
      ],
      "metadata": {
        "colab": {
          "base_uri": "https://localhost:8080/"
        },
        "id": "bXbtUQgPq5IV",
        "outputId": "d6cb6d90-0125-4646-88fc-e679d7884d14"
      },
      "execution_count": null,
      "outputs": [
        {
          "output_type": "execute_result",
          "data": {
            "text/plain": [
              "Maruti           1280\n",
              "Hyundai           821\n",
              "Mahindra          365\n",
              "Tata              361\n",
              "Honda             252\n",
              "Ford              238\n",
              "Toyota            206\n",
              "Chevrolet         188\n",
              "Renault           146\n",
              "Volkswagen        107\n",
              "Skoda              68\n",
              "Nissan             64\n",
              "Audi               60\n",
              "BMW                39\n",
              "Fiat               37\n",
              "Datsun             37\n",
              "Mercedes-Benz      35\n",
              "Jaguar              6\n",
              "Mitsubishi          6\n",
              "Land                5\n",
              "Volvo               4\n",
              "Ambassador          4\n",
              "Jeep                3\n",
              "MG                  2\n",
              "OpelCorsa           2\n",
              "Daewoo              1\n",
              "Force               1\n",
              "Isuzu               1\n",
              "Kia                 1\n",
              "Name: Brand, dtype: int64"
            ]
          },
          "metadata": {},
          "execution_count": 10
        }
      ]
    },
    {
      "cell_type": "code",
      "source": [
        "car['Brand'] == 'Maruti'"
      ],
      "metadata": {
        "colab": {
          "base_uri": "https://localhost:8080/"
        },
        "id": "QcDXOzi9sJ0J",
        "outputId": "f7239b2a-1cdf-499d-b48a-a88a2095f7fa"
      },
      "execution_count": null,
      "outputs": [
        {
          "output_type": "execute_result",
          "data": {
            "text/plain": [
              "0        True\n",
              "1        True\n",
              "2       False\n",
              "3       False\n",
              "4       False\n",
              "        ...  \n",
              "4335    False\n",
              "4336    False\n",
              "4337     True\n",
              "4338    False\n",
              "4339    False\n",
              "Name: Brand, Length: 4340, dtype: bool"
            ]
          },
          "metadata": {},
          "execution_count": 11
        }
      ]
    },
    {
      "cell_type": "code",
      "source": [
        "car['Brand'] == 'Hyundai'"
      ],
      "metadata": {
        "colab": {
          "base_uri": "https://localhost:8080/"
        },
        "id": "T2CfRVgHtX2l",
        "outputId": "c537aed9-702d-49fb-d847-ce8b821d257f"
      },
      "execution_count": null,
      "outputs": [
        {
          "output_type": "execute_result",
          "data": {
            "text/plain": [
              "0       False\n",
              "1       False\n",
              "2        True\n",
              "3       False\n",
              "4       False\n",
              "        ...  \n",
              "4335     True\n",
              "4336     True\n",
              "4337    False\n",
              "4338     True\n",
              "4339    False\n",
              "Name: Brand, Length: 4340, dtype: bool"
            ]
          },
          "metadata": {},
          "execution_count": 12
        }
      ]
    },
    {
      "cell_type": "code",
      "source": [
        "df = car.loc[(car['Brand'] == 'Maruti')|(car['Brand'] == 'Hyundai')]"
      ],
      "metadata": {
        "id": "ERWO1qunrE1X"
      },
      "execution_count": null,
      "outputs": []
    },
    {
      "cell_type": "code",
      "source": [
        "df.info()"
      ],
      "metadata": {
        "colab": {
          "base_uri": "https://localhost:8080/"
        },
        "id": "7Ey8NkqBsaXn",
        "outputId": "a2a32dd9-430f-438c-e819-a521f5859f2d"
      },
      "execution_count": null,
      "outputs": [
        {
          "output_type": "stream",
          "name": "stdout",
          "text": [
            "<class 'pandas.core.frame.DataFrame'>\n",
            "Int64Index: 2101 entries, 0 to 4338\n",
            "Data columns (total 9 columns):\n",
            " #   Column         Non-Null Count  Dtype \n",
            "---  ------         --------------  ----- \n",
            " 0   Brand          2101 non-null   object\n",
            " 1   Model          2101 non-null   object\n",
            " 2   Year           2101 non-null   int64 \n",
            " 3   Selling_Price  2101 non-null   int64 \n",
            " 4   KM_Driven      2101 non-null   int64 \n",
            " 5   Fuel           2101 non-null   object\n",
            " 6   Seller_Type    2101 non-null   object\n",
            " 7   Transmission   2101 non-null   object\n",
            " 8   Owner          2101 non-null   object\n",
            "dtypes: int64(3), object(6)\n",
            "memory usage: 164.1+ KB\n"
          ]
        }
      ]
    },
    {
      "cell_type": "code",
      "source": [
        "df['Brand'].value_counts()"
      ],
      "metadata": {
        "colab": {
          "base_uri": "https://localhost:8080/"
        },
        "id": "FzcAAmW5t4Sd",
        "outputId": "1096ff19-b521-46fb-fde0-89d66bd672ab"
      },
      "execution_count": null,
      "outputs": [
        {
          "output_type": "execute_result",
          "data": {
            "text/plain": [
              "Maruti     1280\n",
              "Hyundai     821\n",
              "Name: Brand, dtype: int64"
            ]
          },
          "metadata": {},
          "execution_count": 15
        }
      ]
    },
    {
      "cell_type": "code",
      "source": [
        "df['Fuel'].value_counts()"
      ],
      "metadata": {
        "colab": {
          "base_uri": "https://localhost:8080/"
        },
        "id": "cQCGI0iowSCo",
        "outputId": "abe102dd-aa91-4f53-b9a0-cc19fa63b10c"
      },
      "execution_count": null,
      "outputs": [
        {
          "output_type": "execute_result",
          "data": {
            "text/plain": [
              "Petrol    1414\n",
              "Diesel     627\n",
              "CNG         38\n",
              "LPG         22\n",
              "Name: Fuel, dtype: int64"
            ]
          },
          "metadata": {},
          "execution_count": 16
        }
      ]
    },
    {
      "cell_type": "code",
      "source": [
        "df['Transmission'].value_counts()"
      ],
      "metadata": {
        "colab": {
          "base_uri": "https://localhost:8080/"
        },
        "id": "tJcbkXPxwggi",
        "outputId": "06ce595c-46b8-47e0-ec04-90a8b3e92269"
      },
      "execution_count": null,
      "outputs": [
        {
          "output_type": "execute_result",
          "data": {
            "text/plain": [
              "Manual       1972\n",
              "Automatic     129\n",
              "Name: Transmission, dtype: int64"
            ]
          },
          "metadata": {},
          "execution_count": 17
        }
      ]
    },
    {
      "cell_type": "code",
      "source": [
        "df['Seller_Type'].value_counts()"
      ],
      "metadata": {
        "colab": {
          "base_uri": "https://localhost:8080/"
        },
        "id": "5219AFsMwmIL",
        "outputId": "7c563cdc-ac97-4f86-d063-a6d7f12cc12e"
      },
      "execution_count": null,
      "outputs": [
        {
          "output_type": "execute_result",
          "data": {
            "text/plain": [
              "Individual          1624\n",
              "Dealer               401\n",
              "Trustmark Dealer      76\n",
              "Name: Seller_Type, dtype: int64"
            ]
          },
          "metadata": {},
          "execution_count": 18
        }
      ]
    },
    {
      "cell_type": "code",
      "source": [
        "df['Owner'].value_counts()"
      ],
      "metadata": {
        "colab": {
          "base_uri": "https://localhost:8080/"
        },
        "id": "teBts1sTw8Mz",
        "outputId": "22090ff0-427b-4371-d076-0c16ecab01ec"
      },
      "execution_count": null,
      "outputs": [
        {
          "output_type": "execute_result",
          "data": {
            "text/plain": [
              "First Owner             1370\n",
              "Second Owner             538\n",
              "Third Owner              143\n",
              "Fourth & Above Owner      50\n",
              "Name: Owner, dtype: int64"
            ]
          },
          "metadata": {},
          "execution_count": 19
        }
      ]
    },
    {
      "cell_type": "markdown",
      "source": [
        "#**Define Target Variable (y) and Feature Variables (X)**"
      ],
      "metadata": {
        "id": "9xgnzxDmAV1C"
      }
    },
    {
      "cell_type": "code",
      "source": [
        "df.columns"
      ],
      "metadata": {
        "colab": {
          "base_uri": "https://localhost:8080/"
        },
        "id": "FflRMBSGxCqx",
        "outputId": "5fc90df9-02ae-4a40-880d-658ebf096387"
      },
      "execution_count": null,
      "outputs": [
        {
          "output_type": "execute_result",
          "data": {
            "text/plain": [
              "Index(['Brand', 'Model', 'Year', 'Selling_Price', 'KM_Driven', 'Fuel',\n",
              "       'Seller_Type', 'Transmission', 'Owner'],\n",
              "      dtype='object')"
            ]
          },
          "metadata": {},
          "execution_count": 20
        }
      ]
    },
    {
      "cell_type": "code",
      "source": [
        "y=df['Selling_Price']\n",
        "X = df[['Brand','Year', 'KM_Driven', 'Fuel',\n",
        "       'Seller_Type', 'Transmission', 'Owner']]"
      ],
      "metadata": {
        "id": "5f9zML3ax5kX"
      },
      "execution_count": null,
      "outputs": []
    },
    {
      "cell_type": "markdown",
      "source": [
        "#**Data Encoding**"
      ],
      "metadata": {
        "id": "Kcvke4F3Ak5O"
      }
    },
    {
      "cell_type": "code",
      "source": [
        "X = pd.get_dummies(X)"
      ],
      "metadata": {
        "id": "vVvtRyBPySaC"
      },
      "execution_count": null,
      "outputs": []
    },
    {
      "cell_type": "markdown",
      "source": [
        "#**Train Test Split**"
      ],
      "metadata": {
        "id": "eS8q1mk_Ar5q"
      }
    },
    {
      "cell_type": "code",
      "source": [
        "from sklearn.model_selection import train_test_split\n",
        "X_train, X_test, y_train, y_test =  train_test_split(X,y, random_state = 2529)"
      ],
      "metadata": {
        "id": "L4FHXsq6ytq9"
      },
      "execution_count": null,
      "outputs": []
    },
    {
      "cell_type": "code",
      "source": [
        "X_train.shape, X_test.shape, y_train.shape, y_test.shape"
      ],
      "metadata": {
        "colab": {
          "base_uri": "https://localhost:8080/"
        },
        "id": "GIZ5vpNfC-60",
        "outputId": "7a16522e-f473-43e3-afc3-27f38806b419"
      },
      "execution_count": null,
      "outputs": [
        {
          "output_type": "execute_result",
          "data": {
            "text/plain": [
              "((1575, 17), (526, 17), (1575,), (526,))"
            ]
          },
          "metadata": {},
          "execution_count": 24
        }
      ]
    },
    {
      "cell_type": "markdown",
      "source": [
        "#**Modeling**"
      ],
      "metadata": {
        "id": "2VIrQLYABEwX"
      }
    },
    {
      "cell_type": "code",
      "source": [
        "from sklearn.ensemble import RandomForestRegressor\n",
        "model = RandomForestRegressor()"
      ],
      "metadata": {
        "id": "G282slZm1AjK"
      },
      "execution_count": null,
      "outputs": []
    },
    {
      "cell_type": "code",
      "source": [
        "model.fit(X_train,y_train)"
      ],
      "metadata": {
        "colab": {
          "base_uri": "https://localhost:8080/",
          "height": 75
        },
        "id": "Jya_FzsX1nyR",
        "outputId": "bb8cae61-e159-4fe2-a99e-708867799661"
      },
      "execution_count": null,
      "outputs": [
        {
          "output_type": "execute_result",
          "data": {
            "text/plain": [
              "RandomForestRegressor()"
            ],
            "text/html": [
              "<style>#sk-container-id-1 {color: black;background-color: white;}#sk-container-id-1 pre{padding: 0;}#sk-container-id-1 div.sk-toggleable {background-color: white;}#sk-container-id-1 label.sk-toggleable__label {cursor: pointer;display: block;width: 100%;margin-bottom: 0;padding: 0.3em;box-sizing: border-box;text-align: center;}#sk-container-id-1 label.sk-toggleable__label-arrow:before {content: \"▸\";float: left;margin-right: 0.25em;color: #696969;}#sk-container-id-1 label.sk-toggleable__label-arrow:hover:before {color: black;}#sk-container-id-1 div.sk-estimator:hover label.sk-toggleable__label-arrow:before {color: black;}#sk-container-id-1 div.sk-toggleable__content {max-height: 0;max-width: 0;overflow: hidden;text-align: left;background-color: #f0f8ff;}#sk-container-id-1 div.sk-toggleable__content pre {margin: 0.2em;color: black;border-radius: 0.25em;background-color: #f0f8ff;}#sk-container-id-1 input.sk-toggleable__control:checked~div.sk-toggleable__content {max-height: 200px;max-width: 100%;overflow: auto;}#sk-container-id-1 input.sk-toggleable__control:checked~label.sk-toggleable__label-arrow:before {content: \"▾\";}#sk-container-id-1 div.sk-estimator input.sk-toggleable__control:checked~label.sk-toggleable__label {background-color: #d4ebff;}#sk-container-id-1 div.sk-label input.sk-toggleable__control:checked~label.sk-toggleable__label {background-color: #d4ebff;}#sk-container-id-1 input.sk-hidden--visually {border: 0;clip: rect(1px 1px 1px 1px);clip: rect(1px, 1px, 1px, 1px);height: 1px;margin: -1px;overflow: hidden;padding: 0;position: absolute;width: 1px;}#sk-container-id-1 div.sk-estimator {font-family: monospace;background-color: #f0f8ff;border: 1px dotted black;border-radius: 0.25em;box-sizing: border-box;margin-bottom: 0.5em;}#sk-container-id-1 div.sk-estimator:hover {background-color: #d4ebff;}#sk-container-id-1 div.sk-parallel-item::after {content: \"\";width: 100%;border-bottom: 1px solid gray;flex-grow: 1;}#sk-container-id-1 div.sk-label:hover label.sk-toggleable__label {background-color: #d4ebff;}#sk-container-id-1 div.sk-serial::before {content: \"\";position: absolute;border-left: 1px solid gray;box-sizing: border-box;top: 0;bottom: 0;left: 50%;z-index: 0;}#sk-container-id-1 div.sk-serial {display: flex;flex-direction: column;align-items: center;background-color: white;padding-right: 0.2em;padding-left: 0.2em;position: relative;}#sk-container-id-1 div.sk-item {position: relative;z-index: 1;}#sk-container-id-1 div.sk-parallel {display: flex;align-items: stretch;justify-content: center;background-color: white;position: relative;}#sk-container-id-1 div.sk-item::before, #sk-container-id-1 div.sk-parallel-item::before {content: \"\";position: absolute;border-left: 1px solid gray;box-sizing: border-box;top: 0;bottom: 0;left: 50%;z-index: -1;}#sk-container-id-1 div.sk-parallel-item {display: flex;flex-direction: column;z-index: 1;position: relative;background-color: white;}#sk-container-id-1 div.sk-parallel-item:first-child::after {align-self: flex-end;width: 50%;}#sk-container-id-1 div.sk-parallel-item:last-child::after {align-self: flex-start;width: 50%;}#sk-container-id-1 div.sk-parallel-item:only-child::after {width: 0;}#sk-container-id-1 div.sk-dashed-wrapped {border: 1px dashed gray;margin: 0 0.4em 0.5em 0.4em;box-sizing: border-box;padding-bottom: 0.4em;background-color: white;}#sk-container-id-1 div.sk-label label {font-family: monospace;font-weight: bold;display: inline-block;line-height: 1.2em;}#sk-container-id-1 div.sk-label-container {text-align: center;}#sk-container-id-1 div.sk-container {/* jupyter's `normalize.less` sets `[hidden] { display: none; }` but bootstrap.min.css set `[hidden] { display: none !important; }` so we also need the `!important` here to be able to override the default hidden behavior on the sphinx rendered scikit-learn.org. See: https://github.com/scikit-learn/scikit-learn/issues/21755 */display: inline-block !important;position: relative;}#sk-container-id-1 div.sk-text-repr-fallback {display: none;}</style><div id=\"sk-container-id-1\" class=\"sk-top-container\"><div class=\"sk-text-repr-fallback\"><pre>RandomForestRegressor()</pre><b>In a Jupyter environment, please rerun this cell to show the HTML representation or trust the notebook. <br />On GitHub, the HTML representation is unable to render, please try loading this page with nbviewer.org.</b></div><div class=\"sk-container\" hidden><div class=\"sk-item\"><div class=\"sk-estimator sk-toggleable\"><input class=\"sk-toggleable__control sk-hidden--visually\" id=\"sk-estimator-id-1\" type=\"checkbox\" checked><label for=\"sk-estimator-id-1\" class=\"sk-toggleable__label sk-toggleable__label-arrow\">RandomForestRegressor</label><div class=\"sk-toggleable__content\"><pre>RandomForestRegressor()</pre></div></div></div></div></div>"
            ]
          },
          "metadata": {},
          "execution_count": 27
        }
      ]
    },
    {
      "cell_type": "markdown",
      "source": [
        "#**Prediction**"
      ],
      "metadata": {
        "id": "EkxL4i8SDqSj"
      }
    },
    {
      "cell_type": "code",
      "source": [
        "y_pred = model.predict(X_test)"
      ],
      "metadata": {
        "id": "D9nweh7-18GN"
      },
      "execution_count": null,
      "outputs": []
    },
    {
      "cell_type": "code",
      "source": [
        "y_pred"
      ],
      "metadata": {
        "colab": {
          "base_uri": "https://localhost:8080/"
        },
        "id": "z30xCqnFDwl4",
        "outputId": "9a7fc1c6-61b9-4f4f-96d8-80c059035a68"
      },
      "execution_count": null,
      "outputs": [
        {
          "output_type": "execute_result",
          "data": {
            "text/plain": [
              "array([ 760000.        ,  198904.16666667,  903593.33333333,\n",
              "        473949.95      ,   82595.        ,  225000.        ,\n",
              "        218838.44316667,  199100.        ,  233729.49      ,\n",
              "        110285.05555556,  576334.16666667,  136678.57142857,\n",
              "        726661.16666667,  349069.99      ,  507351.19047619,\n",
              "        530605.83333333,  139779.98      ,  169716.66666667,\n",
              "        352252.62626263,  141921.62698413,  170323.65666667,\n",
              "        288700.99021717,   88292.77761905,   62885.        ,\n",
              "         94630.        ,  531296.66666667,  551938.33333333,\n",
              "        335753.33333333,  109173.07142857,  445336.28571429,\n",
              "        737703.33333333,  540500.83333333,  178564.26571429,\n",
              "        310973.9       ,  341594.14371032,  311232.54616667,\n",
              "        225000.        ,  105176.30952381,  235248.7       ,\n",
              "        283552.66805952,   82595.        ,  232124.96      ,\n",
              "        297632.4       ,  718580.        ,  154375.        ,\n",
              "        467850.        ,  337342.55799756,   93620.        ,\n",
              "        418547.5       ,   74380.        ,   76288.98809524,\n",
              "        115149.99      ,  432635.        ,  530099.98      ,\n",
              "        295664.80619048,  310973.9       ,  396008.33333333,\n",
              "        711126.65666667,  617615.47619048,  182799.93      ,\n",
              "        198364.99      ,   59254.28571429,  272490.47619048,\n",
              "        288700.99021717,  550000.        ,  172319.66666667,\n",
              "        103575.        ,  528199.83      ,   61260.        ,\n",
              "         93520.        ,  108477.85714286,  550826.66666667,\n",
              "        473949.95      ,  875874.28571429,  602175.        ,\n",
              "        232999.91      ,  738542.43047619,  141445.        ,\n",
              "        239968.92857143,  205580.        ,  740243.37301587,\n",
              "        706390.        ,  357485.71428571,  461724.99      ,\n",
              "        447370.        ,  469479.99      ,  541549.25571429,\n",
              "        468419.99      , 1213225.        ,   71690.        ,\n",
              "        476120.        ,  250342.31333333,  625260.        ,\n",
              "        339764.95      ,  292624.80952381,  208929.3365    ,\n",
              "        547660.        ,  251735.71428571,  425538.13492064,\n",
              "        159828.32333333,  174638.33333333,  362703.37301587,\n",
              "        508668.51142857,  174277.4275    ,  394560.        ,\n",
              "         88723.33333333,  469389.75396825,  470869.81421356,\n",
              "        361841.66666667,  733059.14502165,  359024.93      ,\n",
              "        112415.        ,  581498.33333333,  327906.19047619,\n",
              "        355290.        ,  202361.51666667,  231769.95      ,\n",
              "        350026.66666667,   90870.        ,  534659.99      ,\n",
              "        195964.08666667,  432555.        ,  308505.11911905,\n",
              "        493950.        ,   62605.        ,  600000.        ,\n",
              "        124423.33333333,  283510.        ,  507351.19047619,\n",
              "        102740.        ,  119078.0752381 ,  743817.14285714,\n",
              "        374910.        ,  137420.        ,  229999.        ,\n",
              "        941169.96      ,  396008.33333333,  262526.82      ,\n",
              "        500962.55194805,  457829.92      ,  250393.2       ,\n",
              "        342962.85714286,   92095.        ,  276449.92      ,\n",
              "        162215.83333333,  233233.28333333,  834375.14285714,\n",
              "        165806.64833333,  226582.5       ,  260098.33333333,\n",
              "         74910.        ,  191350.        ,  225000.        ,\n",
              "        600113.22333333,  923759.9355    ,  596045.07666667,\n",
              "        407958.33333333,  236087.20238095,  157486.66666667,\n",
              "        119078.0752381 ,  657992.77578571,  207033.32333333,\n",
              "        760000.        ,  426891.61666667,  601930.33333333,\n",
              "        241749.97      ,  188956.63666667,  141296.39333333,\n",
              "        256358.01183333,  293928.32333333,  208983.33333333,\n",
              "         85420.        ,  371306.66666667,  499943.12333333,\n",
              "        134670.        ,  130827.38095238,  357391.7302381 ,\n",
              "        451000.16666667,  513889.68253968,  653898.21428571,\n",
              "        244649.6       ,  326499.98      ,  448150.        ,\n",
              "        629845.56277056,  361269.95      ,   76220.        ,\n",
              "        256740.97222222,  207224.98      ,   66020.        ,\n",
              "         81490.55555556,  342962.85714286,  355290.        ,\n",
              "        306225.        ,  467569.99      ,  100800.        ,\n",
              "        698105.        ,  256149.97      ,   93750.        ,\n",
              "        155276.66666667,  192370.29666667,  404374.51      ,\n",
              "        670000.        ,  123856.76190476,  424920.        ,\n",
              "        341716.66666667,  310500.40314286,  424920.        ,\n",
              "        239143.75      ,  247308.29333333,   91364.52380952,\n",
              "        850533.33333333,  688649.98      ,  221499.96      ,\n",
              "        501510.        ,  110285.05555556,  427466.64666667,\n",
              "        284936.48809524,  386699.99      ,  549936.66666667,\n",
              "        222908.80952381,  234759.94      ,  541620.70428571,\n",
              "        337643.33333333,  277940.        ,  357485.71428571,\n",
              "        550000.        ,  441785.        ,  107280.        ,\n",
              "        439553.25333333,  212178.23875   ,  118022.5       ,\n",
              "        600000.        ,  492182.77952381,  600000.        ,\n",
              "        241749.97      ,  623590.11904762,  698105.        ,\n",
              "        430912.48      ,   92095.        ,  363938.95238095,\n",
              "        444034.16666667,  711552.33333333,  223045.98      ,\n",
              "        284936.48809524,  355000.        ,  114568.50793651,\n",
              "        229999.        ,  540500.83333333,  424993.32333333,\n",
              "        311039.16333333,   69924.16666667,  802435.        ,\n",
              "        100439.52380952,  120185.        ,  111643.33333333,\n",
              "        727875.        ,  663400.        ,  768183.29333333,\n",
              "        304396.66666667,  396347.16307143,  258948.86059524,\n",
              "         90826.31333333,  138005.        ,  108477.85714286,\n",
              "        407679.69      ,  205077.89      ,  385930.30619048,\n",
              "        363938.95238095,  605183.33333333, 1237200.        ,\n",
              "        492796.19047619,  806550.        ,  507925.        ,\n",
              "        752266.65666667,  159697.5       ,  434700.        ,\n",
              "        750000.        ,  550000.        ,   69920.        ,\n",
              "        445259.16666667,   84160.83333333,  179776.71178571,\n",
              "         59254.28571429,  342163.81430952,  659849.99      ,\n",
              "        364499.43      ,  452762.5       ,  550000.        ,\n",
              "         81902.50666667,  217649.45      ,  511913.24333333,\n",
              "        229999.        ,  483141.66666667,  256149.97      ,\n",
              "        324800.        ,  335168.88888889,   82291.66666667,\n",
              "         79870.        ,   61260.        ,  535000.        ,\n",
              "        691047.31333333,  198054.99      ,  377176.44666667,\n",
              "        738542.43047619,  492796.19047619,  715474.76190476,\n",
              "        279087.73809524,  700253.30333333,   76751.66666667,\n",
              "        263117.5       ,  750000.        ,  248491.44666667,\n",
              "        306667.5       ,  389697.13285714,  539229.98      ,\n",
              "        141296.39333333,  376408.33333333,  339188.57142857,\n",
              "        638100.33555556,  490910.        ,  574742.85714286,\n",
              "        293900.        ,  192666.66666667,  750252.5974026 ,\n",
              "        336723.80952381,  332971.66666667,   58265.        ,\n",
              "        141445.        ,  520000.        ,  386699.99      ,\n",
              "        178579.2647619 ,  520000.        ,  486654.93      ,\n",
              "        949840.        ,  472649.82      ,   74860.        ,\n",
              "        378618.31333333,  564220.        ,  598149.99      ,\n",
              "        531100.        ,  625000.        ,  513700.        ,\n",
              "         91575.        ,   97550.        ,   76960.        ,\n",
              "        385900.        ,  616674.5       ,  455772.73809524,\n",
              "        864875.83333333,  357485.71428571,  740088.0952381 ,\n",
              "        100439.52380952,  526301.66666667,  452731.07142857,\n",
              "         96020.        ,  750252.5974026 ,  222643.98      ,\n",
              "        114568.50793651,  237337.318     ,   87350.        ,\n",
              "        288700.99021717,  517000.        ,  290850.        ,\n",
              "        128205.058     ,  600000.        ,  614049.99      ,\n",
              "        261161.82539683,  299233.30666667,  179551.29904762,\n",
              "        487905.        ,  555949.99      ,  217908.23583333,\n",
              "         79460.        ,  161722.61904762,  280799.97      ,\n",
              "        334791.64666667,  131509.16666667,  798015.        ,\n",
              "        713415.        ,  407272.82333333,  128391.66666667,\n",
              "        435859.99      ,  272193.33333333,  743817.14285714,\n",
              "        255060.        ,  470648.33333333,  750000.        ,\n",
              "        629845.56277056,  330266.66666667,  481045.83333333,\n",
              "         65930.        ,  964900.        ,  110285.05555556,\n",
              "        343012.35983333,  241217.28666667,   85370.        ,\n",
              "         74740.        ,   91364.52380952,  445336.28571429,\n",
              "       1032540.        ,  218326.62666667,  293856.28666667,\n",
              "        297632.4       ,  391409.99      ,  381315.66166667,\n",
              "        375404.15166667,  137350.        ,  559249.5       ,\n",
              "        486549.42      ,  796326.65666667,  600113.22333333,\n",
              "        121209.54349206,  410149.93833333,  271396.66666667,\n",
              "       1077970.        ,  455892.824     ,  232999.91      ,\n",
              "       1089690.95238095,  683410.        ,  255266.66666667,\n",
              "        271153.31333333,   74470.        ,  207295.        ,\n",
              "        109545.        ,  107510.83333333,  474311.8       ,\n",
              "        325330.56666667,  134949.92      ,  104010.        ,\n",
              "        530925.        ,  289310.        ,  403737.5       ,\n",
              "        288700.99021717,  384273.33333333,  455859.89      ,\n",
              "        470869.81421356,  323430.83333333,  399549.77      ,\n",
              "        127670.        ,  332156.66666667,  210008.30333333,\n",
              "        937510.        ,  324743.29333333,  163030.47619048,\n",
              "        317331.82539683,   60280.        ,  730564.51380952,\n",
              "         80000.        ,  474700.        ,  470699.95      ,\n",
              "        341240.        ,  330171.66666667,   67340.        ,\n",
              "        503766.66666667,  445336.28571429,  176677.54121429,\n",
              "        505300.        ,  504978.28333333,  874899.92      ,\n",
              "        174200.        ,  157768.33333333,  179776.71178571,\n",
              "         80000.        ,  753878.33333333,   98086.66666667,\n",
              "         82730.        ,  204924.25571429,  312054.33333333,\n",
              "        503275.        ,  179660.        ,   76288.98809524,\n",
              "        115010.        ,  763410.        ,  421870.        ,\n",
              "        199900.        ,  265883.98766667,  895355.83333333,\n",
              "        546357.57904762,  432979.97      ,  234263.71      ,\n",
              "        407531.66666667,  639575.        ,  339764.95      ,\n",
              "        207224.98      ,  279087.73809524,  954650.        ,\n",
              "        238699.17234524,   78870.        ,  227092.85714286,\n",
              "       1188046.66666667,  420150.        ,  191733.33333333,\n",
              "        201873.09666667,  283552.66805952,   93388.47619048,\n",
              "        154700.        ,  611790.        ,  753878.33333333,\n",
              "        267172.14285714,  201373.31333333,  452345.        ,\n",
              "        376976.19047619,  337136.66666667,  198904.16666667,\n",
              "        218043.19047619,  321729.14141414, 1060465.47619048,\n",
              "        361053.59407143,  361841.66666667,  129100.        ,\n",
              "        307175.11911905,  485136.64333333,  240833.24416667,\n",
              "        215551.51666667,  864875.83333333,  296516.66666667,\n",
              "        484196.36857143,  596000.        ,  291798.16666667,\n",
              "        512293.33333333,  180400.        ,  144965.57516667,\n",
              "        217649.45      ,  337342.55799756,  420590.        ,\n",
              "        488606.30952381])"
            ]
          },
          "metadata": {},
          "execution_count": 29
        }
      ]
    },
    {
      "cell_type": "markdown",
      "source": [
        "#**Model Evaluation**"
      ],
      "metadata": {
        "id": "gxpbZBNuD-ID"
      }
    },
    {
      "cell_type": "code",
      "source": [
        "from sklearn.metrics import mean_absolute_percentage_error,r2_score"
      ],
      "metadata": {
        "id": "8C-C91LP4NLw"
      },
      "execution_count": null,
      "outputs": []
    },
    {
      "cell_type": "code",
      "source": [
        "mean_absolute_percentage_error(y_test,y_pred)"
      ],
      "metadata": {
        "colab": {
          "base_uri": "https://localhost:8080/"
        },
        "id": "OJ4Uo-MaESI1",
        "outputId": "00555297-a48d-49d5-ba48-726f1a70c0a3"
      },
      "execution_count": null,
      "outputs": [
        {
          "output_type": "execute_result",
          "data": {
            "text/plain": [
              "0.2726632500658131"
            ]
          },
          "metadata": {},
          "execution_count": 33
        }
      ]
    },
    {
      "cell_type": "code",
      "source": [
        "r2_score(y_test,y_pred)"
      ],
      "metadata": {
        "colab": {
          "base_uri": "https://localhost:8080/"
        },
        "id": "f9NgSE7a4-PX",
        "outputId": "04a9df28-7e21-4991-8565-605c8fd5fa2e"
      },
      "execution_count": null,
      "outputs": [
        {
          "output_type": "execute_result",
          "data": {
            "text/plain": [
              "0.6755187879030141"
            ]
          },
          "metadata": {},
          "execution_count": 34
        }
      ]
    },
    {
      "cell_type": "markdown",
      "source": [
        "#**Explanation**\n",
        "\n",
        "By performing Random Forest Regressor model, we aim to get a better result or less error with max accuracy. Our purpose was to predict the price of the old cars having 4340 data entries.\n",
        "\n",
        "Initially, we read the data from dataset which is available on github (Ybi Foundation).\n",
        "\n",
        "Now we perform data preprocessing, Firstly we remove the data from brand (Skoda, Volvo, Jeep, etc) with all information because the given samples are not sufficient to perform the task.\n",
        "\n",
        "In our dataset, 6 features are categorical variables and 2 numerical variables (price column excluded). To apply the ML model, we need to transform these categorical variables into numerical variables.\n",
        "\n",
        "Next step is to define the target variable(y) and feature variable(X) and then we encode the data into numerical values.\n",
        "\n",
        "Next step is to split the dataset into training and testing sets. The training set will be used to train the machine learning model, while the testing set will be used to evaluate its performance.\n",
        "\n",
        "Now by using the Random Forest Regressor model we fit the dataset in the model which is called Data Modeling.\n",
        "\n",
        "And then we evaluate the trained model on the testing set using appropriate metrics like mean absolute percentage error, r2 score to measure its performance."
      ],
      "metadata": {
        "id": "XsXsAhG2EaX6"
      }
    }
  ]
}